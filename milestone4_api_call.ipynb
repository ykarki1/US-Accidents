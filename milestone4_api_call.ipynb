{
 "cells": [
  {
   "cell_type": "markdown",
   "metadata": {},
   "source": [
    "# Term project : Milestone 4\n",
    "API Data pull\n",
    "### Yograj Karki"
   ]
  },
  {
   "cell_type": "markdown",
   "metadata": {},
   "source": [
    "For this project, I'm going to pull historical weather data from Source: https://openweathermap.org/api"
   ]
  },
  {
   "cell_type": "code",
   "execution_count": 1,
   "metadata": {},
   "outputs": [],
   "source": [
    "# Loading libraries\n",
    "import pandas as pd\n",
    "import requests\n",
    "import json\n",
    "import datetime as dt\n",
    "import numpy as np"
   ]
  },
  {
   "cell_type": "code",
   "execution_count": 2,
   "metadata": {},
   "outputs": [],
   "source": [
    "# API key\n",
    "api_key= \"ec160a45a9812a127cc354d8a5adea88\"      "
   ]
  },
  {
   "cell_type": "code",
   "execution_count": 3,
   "metadata": {},
   "outputs": [
    {
     "data": {
      "text/plain": [
       "(145000, 47)"
      ]
     },
     "execution_count": 3,
     "metadata": {},
     "output_type": "execute_result"
    }
   ],
   "source": [
    "# Importing sampled accidents data file\n",
    "df = pd.read_csv(\"sample_accidents.csv\")\n",
    "df.shape"
   ]
  },
  {
   "cell_type": "code",
   "execution_count": 4,
   "metadata": {},
   "outputs": [
    {
     "data": {
      "text/html": [
       "<div>\n",
       "<style scoped>\n",
       "    .dataframe tbody tr th:only-of-type {\n",
       "        vertical-align: middle;\n",
       "    }\n",
       "\n",
       "    .dataframe tbody tr th {\n",
       "        vertical-align: top;\n",
       "    }\n",
       "\n",
       "    .dataframe thead th {\n",
       "        text-align: right;\n",
       "    }\n",
       "</style>\n",
       "<table border=\"1\" class=\"dataframe\">\n",
       "  <thead>\n",
       "    <tr style=\"text-align: right;\">\n",
       "      <th></th>\n",
       "      <th>ID</th>\n",
       "      <th>Severity</th>\n",
       "      <th>Start_Time</th>\n",
       "      <th>End_Time</th>\n",
       "      <th>Start_Lat</th>\n",
       "      <th>Start_Lng</th>\n",
       "      <th>End_Lat</th>\n",
       "      <th>End_Lng</th>\n",
       "      <th>Distance(mi)</th>\n",
       "      <th>Description</th>\n",
       "      <th>...</th>\n",
       "      <th>Roundabout</th>\n",
       "      <th>Station</th>\n",
       "      <th>Stop</th>\n",
       "      <th>Traffic_Calming</th>\n",
       "      <th>Traffic_Signal</th>\n",
       "      <th>Turning_Loop</th>\n",
       "      <th>Sunrise_Sunset</th>\n",
       "      <th>Civil_Twilight</th>\n",
       "      <th>Nautical_Twilight</th>\n",
       "      <th>Astronomical_Twilight</th>\n",
       "    </tr>\n",
       "  </thead>\n",
       "  <tbody>\n",
       "    <tr>\n",
       "      <th>0</th>\n",
       "      <td>A-30</td>\n",
       "      <td>2</td>\n",
       "      <td>2019-11-25 07:11:55</td>\n",
       "      <td>2019-11-25 08:42:16</td>\n",
       "      <td>43.220390</td>\n",
       "      <td>-85.500961</td>\n",
       "      <td>43.220390</td>\n",
       "      <td>-85.500961</td>\n",
       "      <td>0.0</td>\n",
       "      <td>Accident on 17 Mile Rd at Stout Ave.</td>\n",
       "      <td>...</td>\n",
       "      <td>False</td>\n",
       "      <td>False</td>\n",
       "      <td>False</td>\n",
       "      <td>False</td>\n",
       "      <td>False</td>\n",
       "      <td>False</td>\n",
       "      <td>Night</td>\n",
       "      <td>Night</td>\n",
       "      <td>Day</td>\n",
       "      <td>Day</td>\n",
       "    </tr>\n",
       "    <tr>\n",
       "      <th>1</th>\n",
       "      <td>A-44</td>\n",
       "      <td>2</td>\n",
       "      <td>2016-12-29 07:35:34</td>\n",
       "      <td>2016-12-29 08:05:17</td>\n",
       "      <td>28.698406</td>\n",
       "      <td>-82.451477</td>\n",
       "      <td>28.698406</td>\n",
       "      <td>-82.451477</td>\n",
       "      <td>0.0</td>\n",
       "      <td>Accident on County Hwy-480 Oak Park Blvd at Co...</td>\n",
       "      <td>...</td>\n",
       "      <td>False</td>\n",
       "      <td>False</td>\n",
       "      <td>False</td>\n",
       "      <td>False</td>\n",
       "      <td>False</td>\n",
       "      <td>False</td>\n",
       "      <td>Day</td>\n",
       "      <td>Day</td>\n",
       "      <td>Day</td>\n",
       "      <td>Day</td>\n",
       "    </tr>\n",
       "    <tr>\n",
       "      <th>2</th>\n",
       "      <td>A-67</td>\n",
       "      <td>2</td>\n",
       "      <td>2019-04-11 12:20:07</td>\n",
       "      <td>2019-04-11 12:49:16</td>\n",
       "      <td>31.759741</td>\n",
       "      <td>-106.484001</td>\n",
       "      <td>31.759741</td>\n",
       "      <td>-106.484001</td>\n",
       "      <td>0.0</td>\n",
       "      <td>Accident on Campbell St at Myrtle Ave.</td>\n",
       "      <td>...</td>\n",
       "      <td>False</td>\n",
       "      <td>False</td>\n",
       "      <td>False</td>\n",
       "      <td>False</td>\n",
       "      <td>True</td>\n",
       "      <td>False</td>\n",
       "      <td>Day</td>\n",
       "      <td>Day</td>\n",
       "      <td>Day</td>\n",
       "      <td>Day</td>\n",
       "    </tr>\n",
       "    <tr>\n",
       "      <th>3</th>\n",
       "      <td>A-107</td>\n",
       "      <td>2</td>\n",
       "      <td>2017-08-22 10:53:29</td>\n",
       "      <td>2017-08-22 11:23:16</td>\n",
       "      <td>41.256569</td>\n",
       "      <td>-95.940956</td>\n",
       "      <td>41.256569</td>\n",
       "      <td>-95.940956</td>\n",
       "      <td>0.0</td>\n",
       "      <td>Accident on 19th St Eastbound at Harney St.</td>\n",
       "      <td>...</td>\n",
       "      <td>False</td>\n",
       "      <td>True</td>\n",
       "      <td>False</td>\n",
       "      <td>False</td>\n",
       "      <td>True</td>\n",
       "      <td>False</td>\n",
       "      <td>Day</td>\n",
       "      <td>Day</td>\n",
       "      <td>Day</td>\n",
       "      <td>Day</td>\n",
       "    </tr>\n",
       "    <tr>\n",
       "      <th>4</th>\n",
       "      <td>A-123</td>\n",
       "      <td>2</td>\n",
       "      <td>2019-06-19 17:55:06</td>\n",
       "      <td>2019-06-19 18:24:54</td>\n",
       "      <td>33.713829</td>\n",
       "      <td>-112.285217</td>\n",
       "      <td>33.713829</td>\n",
       "      <td>-112.285217</td>\n",
       "      <td>0.0</td>\n",
       "      <td>Accident on 107th Ave at Happy Valley Pkwy.</td>\n",
       "      <td>...</td>\n",
       "      <td>False</td>\n",
       "      <td>False</td>\n",
       "      <td>False</td>\n",
       "      <td>False</td>\n",
       "      <td>True</td>\n",
       "      <td>False</td>\n",
       "      <td>Day</td>\n",
       "      <td>Day</td>\n",
       "      <td>Day</td>\n",
       "      <td>Day</td>\n",
       "    </tr>\n",
       "  </tbody>\n",
       "</table>\n",
       "<p>5 rows × 47 columns</p>\n",
       "</div>"
      ],
      "text/plain": [
       "      ID  Severity           Start_Time             End_Time  Start_Lat  \\\n",
       "0   A-30         2  2019-11-25 07:11:55  2019-11-25 08:42:16  43.220390   \n",
       "1   A-44         2  2016-12-29 07:35:34  2016-12-29 08:05:17  28.698406   \n",
       "2   A-67         2  2019-04-11 12:20:07  2019-04-11 12:49:16  31.759741   \n",
       "3  A-107         2  2017-08-22 10:53:29  2017-08-22 11:23:16  41.256569   \n",
       "4  A-123         2  2019-06-19 17:55:06  2019-06-19 18:24:54  33.713829   \n",
       "\n",
       "    Start_Lng    End_Lat     End_Lng  Distance(mi)  \\\n",
       "0  -85.500961  43.220390  -85.500961           0.0   \n",
       "1  -82.451477  28.698406  -82.451477           0.0   \n",
       "2 -106.484001  31.759741 -106.484001           0.0   \n",
       "3  -95.940956  41.256569  -95.940956           0.0   \n",
       "4 -112.285217  33.713829 -112.285217           0.0   \n",
       "\n",
       "                                         Description  ...  Roundabout Station  \\\n",
       "0               Accident on 17 Mile Rd at Stout Ave.  ...       False   False   \n",
       "1  Accident on County Hwy-480 Oak Park Blvd at Co...  ...       False   False   \n",
       "2             Accident on Campbell St at Myrtle Ave.  ...       False   False   \n",
       "3        Accident on 19th St Eastbound at Harney St.  ...       False    True   \n",
       "4        Accident on 107th Ave at Happy Valley Pkwy.  ...       False   False   \n",
       "\n",
       "    Stop Traffic_Calming Traffic_Signal Turning_Loop Sunrise_Sunset  \\\n",
       "0  False           False          False        False          Night   \n",
       "1  False           False          False        False            Day   \n",
       "2  False           False           True        False            Day   \n",
       "3  False           False           True        False            Day   \n",
       "4  False           False           True        False            Day   \n",
       "\n",
       "  Civil_Twilight Nautical_Twilight Astronomical_Twilight  \n",
       "0          Night               Day                   Day  \n",
       "1            Day               Day                   Day  \n",
       "2            Day               Day                   Day  \n",
       "3            Day               Day                   Day  \n",
       "4            Day               Day                   Day  \n",
       "\n",
       "[5 rows x 47 columns]"
      ]
     },
     "execution_count": 4,
     "metadata": {},
     "output_type": "execute_result"
    }
   ],
   "source": [
    "df.head()"
   ]
  },
  {
   "cell_type": "code",
   "execution_count": 5,
   "metadata": {},
   "outputs": [
    {
     "data": {
      "text/html": [
       "<div>\n",
       "<style scoped>\n",
       "    .dataframe tbody tr th:only-of-type {\n",
       "        vertical-align: middle;\n",
       "    }\n",
       "\n",
       "    .dataframe tbody tr th {\n",
       "        vertical-align: top;\n",
       "    }\n",
       "\n",
       "    .dataframe thead th {\n",
       "        text-align: right;\n",
       "    }\n",
       "</style>\n",
       "<table border=\"1\" class=\"dataframe\">\n",
       "  <thead>\n",
       "    <tr style=\"text-align: right;\">\n",
       "      <th></th>\n",
       "      <th>ID</th>\n",
       "      <th>Start_Time</th>\n",
       "      <th>City</th>\n",
       "    </tr>\n",
       "  </thead>\n",
       "  <tbody>\n",
       "    <tr>\n",
       "      <th>0</th>\n",
       "      <td>A-30</td>\n",
       "      <td>2019-11-25 07:11:55</td>\n",
       "      <td>Cedar Springs</td>\n",
       "    </tr>\n",
       "    <tr>\n",
       "      <th>1</th>\n",
       "      <td>A-44</td>\n",
       "      <td>2016-12-29 07:35:34</td>\n",
       "      <td>Homosassa</td>\n",
       "    </tr>\n",
       "    <tr>\n",
       "      <th>2</th>\n",
       "      <td>A-67</td>\n",
       "      <td>2019-04-11 12:20:07</td>\n",
       "      <td>El Paso</td>\n",
       "    </tr>\n",
       "    <tr>\n",
       "      <th>3</th>\n",
       "      <td>A-107</td>\n",
       "      <td>2017-08-22 10:53:29</td>\n",
       "      <td>Omaha</td>\n",
       "    </tr>\n",
       "    <tr>\n",
       "      <th>4</th>\n",
       "      <td>A-123</td>\n",
       "      <td>2019-06-19 17:55:06</td>\n",
       "      <td>Peoria</td>\n",
       "    </tr>\n",
       "  </tbody>\n",
       "</table>\n",
       "</div>"
      ],
      "text/plain": [
       "      ID           Start_Time           City\n",
       "0   A-30  2019-11-25 07:11:55  Cedar Springs\n",
       "1   A-44  2016-12-29 07:35:34      Homosassa\n",
       "2   A-67  2019-04-11 12:20:07        El Paso\n",
       "3  A-107  2017-08-22 10:53:29          Omaha\n",
       "4  A-123  2019-06-19 17:55:06         Peoria"
      ]
     },
     "execution_count": 5,
     "metadata": {},
     "output_type": "execute_result"
    }
   ],
   "source": [
    "# creating a new data frame for weather data\n",
    "df2 = df[[\"ID\",\"Start_Time\",\"City\"]].copy()\n",
    "df2.head()"
   ]
  },
  {
   "cell_type": "markdown",
   "metadata": {},
   "source": [
    "#### Openweathermap API requires date to be UNIX timestamp format."
   ]
  },
  {
   "cell_type": "code",
   "execution_count": 6,
   "metadata": {},
   "outputs": [
    {
     "data": {
      "text/html": [
       "<div>\n",
       "<style scoped>\n",
       "    .dataframe tbody tr th:only-of-type {\n",
       "        vertical-align: middle;\n",
       "    }\n",
       "\n",
       "    .dataframe tbody tr th {\n",
       "        vertical-align: top;\n",
       "    }\n",
       "\n",
       "    .dataframe thead th {\n",
       "        text-align: right;\n",
       "    }\n",
       "</style>\n",
       "<table border=\"1\" class=\"dataframe\">\n",
       "  <thead>\n",
       "    <tr style=\"text-align: right;\">\n",
       "      <th></th>\n",
       "      <th>ID</th>\n",
       "      <th>Start_Time</th>\n",
       "      <th>City</th>\n",
       "      <th>epoch</th>\n",
       "    </tr>\n",
       "  </thead>\n",
       "  <tbody>\n",
       "    <tr>\n",
       "      <th>0</th>\n",
       "      <td>A-30</td>\n",
       "      <td>2019-11-25 07:11:55</td>\n",
       "      <td>Cedar Springs</td>\n",
       "      <td>1574665915</td>\n",
       "    </tr>\n",
       "    <tr>\n",
       "      <th>1</th>\n",
       "      <td>A-44</td>\n",
       "      <td>2016-12-29 07:35:34</td>\n",
       "      <td>Homosassa</td>\n",
       "      <td>1482996934</td>\n",
       "    </tr>\n",
       "    <tr>\n",
       "      <th>2</th>\n",
       "      <td>A-67</td>\n",
       "      <td>2019-04-11 12:20:07</td>\n",
       "      <td>El Paso</td>\n",
       "      <td>1554985207</td>\n",
       "    </tr>\n",
       "    <tr>\n",
       "      <th>3</th>\n",
       "      <td>A-107</td>\n",
       "      <td>2017-08-22 10:53:29</td>\n",
       "      <td>Omaha</td>\n",
       "      <td>1503399209</td>\n",
       "    </tr>\n",
       "    <tr>\n",
       "      <th>4</th>\n",
       "      <td>A-123</td>\n",
       "      <td>2019-06-19 17:55:06</td>\n",
       "      <td>Peoria</td>\n",
       "      <td>1560966906</td>\n",
       "    </tr>\n",
       "  </tbody>\n",
       "</table>\n",
       "</div>"
      ],
      "text/plain": [
       "      ID          Start_Time           City       epoch\n",
       "0   A-30 2019-11-25 07:11:55  Cedar Springs  1574665915\n",
       "1   A-44 2016-12-29 07:35:34      Homosassa  1482996934\n",
       "2   A-67 2019-04-11 12:20:07        El Paso  1554985207\n",
       "3  A-107 2017-08-22 10:53:29          Omaha  1503399209\n",
       "4  A-123 2019-06-19 17:55:06         Peoria  1560966906"
      ]
     },
     "execution_count": 6,
     "metadata": {},
     "output_type": "execute_result"
    }
   ],
   "source": [
    "# Creating a new column of epoch time from Start_Time\n",
    "df2[\"Start_Time\"] = pd.to_datetime(df[\"Start_Time\"])\n",
    "\n",
    "# converting datetime object to epoch unit\n",
    "df2[\"epoch\"] = df2['Start_Time'].astype('int64')//1e9\n",
    "df2.head()"
   ]
  },
  {
   "cell_type": "code",
   "execution_count": 7,
   "metadata": {},
   "outputs": [
    {
     "name": "stdout",
     "output_type": "stream",
     "text": [
      "<class 'pandas.core.frame.DataFrame'>\n",
      "RangeIndex: 145000 entries, 0 to 144999\n",
      "Data columns (total 4 columns):\n",
      " #   Column      Non-Null Count   Dtype         \n",
      "---  ------      --------------   -----         \n",
      " 0   ID          145000 non-null  object        \n",
      " 1   Start_Time  145000 non-null  datetime64[ns]\n",
      " 2   City        144994 non-null  object        \n",
      " 3   epoch       145000 non-null  int64         \n",
      "dtypes: datetime64[ns](1), int64(1), object(2)\n",
      "memory usage: 4.4+ MB\n"
     ]
    }
   ],
   "source": [
    "df2.info()"
   ]
  },
  {
   "cell_type": "code",
   "execution_count": 8,
   "metadata": {},
   "outputs": [],
   "source": [
    "# Creating a function to retrieve weather data by City name and date\n",
    "def get_weather_data(city, epoch):\n",
    "        URL='http://history.openweathermap.org/data/2.5/history/city?q={},US&type=hour&start={}&appid=ec160a45a9812a127cc354d8a5adea88\"'.format(city,epoch)\n",
    "        data = requests.get(URL).json()\n",
    "        \n",
    "        humidity = data['main']['humidity']\n",
    "        wind_speed = data['wind']['speed']\n",
    "        wind_degree = data['wind']['deg']\n",
    "        visibility = data['visibility']\n",
    "        m1 = data['weather'][0]['description']\n",
    "        m2 = data['weather'][0]['main']\n",
    "        body = '{} {}'.format(m1, m2)\n",
    "\n",
    "        return humidity, wind_speed, wind_degree, visibility, body\n"
   ]
  },
  {
   "cell_type": "code",
   "execution_count": 9,
   "metadata": {},
   "outputs": [
    {
     "data": {
      "text/plain": [
       "{'cod': 401,\n",
       " 'message': 'Invalid API key. Please see http://openweathermap.org/faq#error401 for more info.'}"
      ]
     },
     "execution_count": 9,
     "metadata": {},
     "output_type": "execute_result"
    }
   ],
   "source": [
    "# Test call\n",
    "city = \"Boston\"\n",
    "country_code = \"US\"\n",
    "start_time = 1560992106.0\n",
    "\n",
    "url= \"http://history.openweathermap.org/data/2.5/history/city?q={},{}&type=hour&start={}&appid={}\".format(city,country_code, start_time, api_key)\n",
    "\n",
    "data = requests.get(url).json()\n",
    "data\n"
   ]
  },
  {
   "cell_type": "markdown",
   "metadata": {},
   "source": [
    "### Apparently, API seems to be invalid for historical weather data but it works for current weather and forecasted weather data."
   ]
  },
  {
   "cell_type": "code",
   "execution_count": 10,
   "metadata": {},
   "outputs": [
    {
     "data": {
      "text/plain": [
       "{'coord': {'lon': -122.3477, 'lat': 37.9358},\n",
       " 'weather': [{'id': 800,\n",
       "   'main': 'Clear',\n",
       "   'description': 'clear sky',\n",
       "   'icon': '01n'}],\n",
       " 'base': 'stations',\n",
       " 'main': {'temp': 288.24,\n",
       "  'feels_like': 287.95,\n",
       "  'temp_min': 285.46,\n",
       "  'temp_max': 290.45,\n",
       "  'pressure': 1018,\n",
       "  'humidity': 82},\n",
       " 'visibility': 10000,\n",
       " 'wind': {'speed': 3.58, 'deg': 253, 'gust': 4.92},\n",
       " 'clouds': {'all': 9},\n",
       " 'dt': 1627889466,\n",
       " 'sys': {'type': 2,\n",
       "  'id': 2017679,\n",
       "  'country': 'US',\n",
       "  'sunrise': 1627910019,\n",
       "  'sunset': 1627960649},\n",
       " 'timezone': -25200,\n",
       " 'id': 5387428,\n",
       " 'name': 'Richmond',\n",
       " 'cod': 200}"
      ]
     },
     "execution_count": 10,
     "metadata": {},
     "output_type": "execute_result"
    }
   ],
   "source": [
    "url = \"http://api.openweathermap.org/data/2.5/weather?q=Richmond,CA,US&appid=ec160a45a9812a127cc354d8a5adea88\"\n",
    "data = requests.get(url).json()\n",
    "data"
   ]
  }
 ],
 "metadata": {
  "kernelspec": {
   "display_name": "Python 3",
   "language": "python",
   "name": "python3"
  },
  "language_info": {
   "codemirror_mode": {
    "name": "ipython",
    "version": 3
   },
   "file_extension": ".py",
   "mimetype": "text/x-python",
   "name": "python",
   "nbconvert_exporter": "python",
   "pygments_lexer": "ipython3",
   "version": "3.8.5"
  }
 },
 "nbformat": 4,
 "nbformat_minor": 4
}
